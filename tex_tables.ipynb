{
 "cells": [
  {
   "attachments": {},
   "cell_type": "markdown",
   "metadata": {},
   "source": [
    "# This turns stata output into text files for copying and pasting into \\LaTeX\n",
    "\n",
    "Replication -- use \"pip freeze\" to save your virtual environment / packages (or rather, package versions), and then, people can use \"pip install your_freeze.cfg\" file. \n",
    "\n",
    "Use the \"crowding_out\" venv. ~/opt/miniconda3/envs/crowding_out"
   ]
  },
  {
   "cell_type": "code",
   "execution_count": 1,
   "metadata": {},
   "outputs": [],
   "source": [
    "# Import packages. \n",
    "from scipy.stats import ttest_ind_from_stats as ttest\n",
    "import numpy as np\n",
    "import pandas as pd\n",
    "import re, os, time\n",
    "\n",
    "from helper_functions import *\n"
   ]
  },
  {
   "cell_type": "code",
   "execution_count": 3,
   "metadata": {},
   "outputs": [],
   "source": [
    "# Output .tex files for each regression. \n",
    "\n",
    "headers = 2\n",
    "\n",
    "# Main results -- extensive & intensive margin.\n",
    "for p in [1,2]:\n",
    "    for ext in ['ext']:\n",
    "        extensive = True\n",
    "        if ext == 'int':\n",
    "            extensive = False\n",
    "\n",
    "        df = rte(part = p, give = True, ext = extensive, reduced = True)\n",
    "        df1 = rte(part = p, give = False, ext = extensive, reduced = True)\n",
    "\n",
    "        for i in range(headers, df.shape[1]):\n",
    "            df[df.shape[1]+1] = df1[i]\n",
    "\n",
    "        df = df.iloc[:,1:] # New graph, means we're not including the country in the first column:\n",
    "\n",
    "        with open(f\"main_results_part_{p}_{ext}.txt\", \"w\") as f:\n",
    "            print(df.to_latex(index=False, escape = False), file = f) \n",
    "\n",
    "        !open \"main_results_part_{p}_{ext}.txt\"\n",
    "\n"
   ]
  },
  {
   "cell_type": "code",
   "execution_count": null,
   "metadata": {},
   "outputs": [],
   "source": []
  },
  {
   "cell_type": "code",
   "execution_count": null,
   "metadata": {},
   "outputs": [],
   "source": []
  },
  {
   "cell_type": "code",
   "execution_count": null,
   "metadata": {},
   "outputs": [],
   "source": []
  }
 ],
 "metadata": {
  "kernelspec": {
   "display_name": "crowding_out",
   "language": "python",
   "name": "python3"
  },
  "language_info": {
   "codemirror_mode": {
    "name": "ipython",
    "version": 3
   },
   "file_extension": ".py",
   "mimetype": "text/x-python",
   "name": "python",
   "nbconvert_exporter": "python",
   "pygments_lexer": "ipython3",
   "version": "3.9.12"
  },
  "orig_nbformat": 4
 },
 "nbformat": 4,
 "nbformat_minor": 2
}
